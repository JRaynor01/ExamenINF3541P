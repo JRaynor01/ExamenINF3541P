{
 "cells": [
  {
   "cell_type": "code",
   "execution_count": 29,
   "metadata": {},
   "outputs": [
    {
     "name": "stdout",
     "output_type": "stream",
     "text": [
      "Defaulting to user installation because normal site-packages is not writeable\n",
      "Requirement already satisfied: kanren in c:\\users\\56946\\appdata\\roaming\\python\\python39\\site-packages (0.2.3)\n",
      "Requirement already satisfied: multipledispatch in c:\\programdata\\anaconda3\\lib\\site-packages (from kanren) (0.6.0)\n",
      "Requirement already satisfied: unification in c:\\users\\56946\\appdata\\roaming\\python\\python39\\site-packages (from kanren) (0.2.2)\n",
      "Requirement already satisfied: toolz in c:\\programdata\\anaconda3\\lib\\site-packages (from kanren) (0.11.2)\n",
      "Requirement already satisfied: six in c:\\programdata\\anaconda3\\lib\\site-packages (from multipledispatch->kanren) (1.16.0)\n",
      "Note: you may need to restart the kernel to use updated packages.\n"
     ]
    }
   ],
   "source": [
    "pip install kanren"
   ]
  },
  {
   "cell_type": "code",
   "execution_count": 28,
   "metadata": {},
   "outputs": [
    {
     "name": "stdout",
     "output_type": "stream",
     "text": [
      "{('Adhemar H', 'Andrea H'), ('Mario H', 'Miriam H'), ('Mario H', 'Esperanza H'), ('Adhemar H', 'Pablo H'), ('Adhemar H', 'Sergio H'), ('Mario H', 'Adhemar H'), ('Mario V', 'Jaqueline V'), ('Mario V', 'Miguel V'), ('Mario V', 'Eli V'), ('Mario H', 'Marco H'), ('Mario V', 'Edgar V')}\n",
      "('Mario H',)\n",
      "('Adhemar H',)\n",
      "('Marco H', 'Adhemar H', 'Miriam H', 'Esperanza H')\n",
      "('Jaqueline V', 'Miguel V', 'Eli V')\n",
      "('Sergio H', 'Andrea H', 'Pablo H')\n",
      "primos\n",
      "('Pablo H', 'Andrea H', 'Sergio H')\n",
      "('Pablo H', 'Andrea H', 'Sergio H')\n",
      "('Sergio H', 'Pablo H', 'Andrea H')\n",
      "('Jorge C', 'Ericka P', 'Lorena Pr')\n",
      "('Ericka P', 'Lorena Pr', 'Jorge C')\n",
      "('Ericka P', 'Lorena Pr', 'Jorge C')\n",
      "relacion tios\n",
      "('Miguel V', 'Eli V')\n",
      "('Marco H', 'Esperanza H', 'Miguel V')\n"
     ]
    }
   ],
   "source": [
    "from kanren import run, var, eq, Relation, facts\n",
    "a = var()\n",
    "b = var()\n",
    "\n",
    "padre = Relation()\n",
    "primo = Relation()\n",
    "tio = Relation()\n",
    "facts(padre, (\"Mario V\",\"Jaqueline V\"),(\"Mario V\",\"Eli V\"),(\"Mario V\",\"Miguel V\"),(\"Mario V\",\"Edgar V\"),\n",
    "      (\"Mario H\",\"Esperanza H\"),(\"Mario H\",\"Miriam H\"),(\"Mario H\",\"Adhemar H\"), (\"Mario H\",\"Marco H\"),\n",
    "      (\"Adhemar H\",\"Sergio H\"),(\"Adhemar H\",\"Pablo H\"), (\"Adhemar H\",\"Andrea H\"))\n",
    "facts(primo, (\"Sergio H\",\"Jorge C\"),(\"Pablo H\",\"Jorge C\"),(\"Andrea H\",\"Jorge C\"),\n",
    "      (\"Sergio H\",\"Ericka P\"),(\"Pablo H\",\"Ericka P\"),(\"Andrea H\",\"Ericka P\"),\n",
    "      (\"Sergio H\",\"Lorena Pr\"),(\"Pablo H\",\"Lorena Pr\"),(\"Andrea H\",\"Lorena Pr\"))\n",
    "facts(tio, (\"Esperanza H\",\"Sergio H\"),(\"Marco H\",\"Sergio H\"),(\"Miguel V\",\"Sergio H\"),\n",
    "      (\"Eli V\",\"Pablo H\"),(\"Eli V\",\"Andrea H\"),(\"Miguel V\",\"Andrea H\"))\n",
    "\n",
    "print(padre.facts)\n",
    "print(run(1,a,padre(a,\"Adhemar H\")))\n",
    "print(run(1,a,padre(a,\"Sergio H\")))\n",
    "print(run(4,b,padre(\"Mario H\",b)))\n",
    "print(run(3,b,padre(\"Mario V\",b)))\n",
    "print(run(3,b,padre(\"Adhemar H\",b)))\n",
    "\n",
    "print(\"primos\")\n",
    "print(run(3,a,primo(a,\"Lorena Pr\")))\n",
    "print(run(3,a,primo(a,\"Ericka P\")))\n",
    "print(run(3,a,primo(a,\"Jorge C\")))\n",
    "print(run(3,a,primo(\"Sergio H\",a)))\n",
    "print(run(3,a,primo(\"Pablo H\",a)))\n",
    "print(run(3,a,primo(\"Andrea H\",a)))\n",
    "\n",
    "print(\"relacion tios\")\n",
    "print(run(2,a,tio(a,\"Andrea H\")))\n",
    "print(run(3,a,tio(a,\"Sergio H\")))\n"
   ]
  }
 ],
 "metadata": {
  "kernelspec": {
   "display_name": "Python 3 (ipykernel)",
   "language": "python",
   "name": "python3"
  },
  "language_info": {
   "codemirror_mode": {
    "name": "ipython",
    "version": 3
   },
   "file_extension": ".py",
   "mimetype": "text/x-python",
   "name": "python",
   "nbconvert_exporter": "python",
   "pygments_lexer": "ipython3",
   "version": "3.9.12"
  },
  "orig_nbformat": 4
 },
 "nbformat": 4,
 "nbformat_minor": 2
}
